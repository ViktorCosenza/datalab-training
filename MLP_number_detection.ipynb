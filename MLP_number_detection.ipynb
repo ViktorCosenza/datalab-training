{
 "cells": [
  {
   "cell_type": "code",
   "execution_count": 1,
   "metadata": {},
   "outputs": [],
   "source": [
    "import numpy as np\n",
    "import matplotlib.pyplot as plt\n",
    "import pandas as pd\n",
    "import math\n",
    "from functools import *\n",
    "import operator\n",
    "\n",
    "dataset = pd.read_csv('../mnist/mnist_train.csv')\n",
    "testset = pd.read_csv('../mnist/mnist_test.csv')\n",
    "\n",
    "x_test = np.array(testset)[:, 1:] / 255\n",
    "y_test = np.array(testset)[:, 0]"
   ]
  },
  {
   "cell_type": "code",
   "execution_count": 3,
   "metadata": {},
   "outputs": [],
   "source": [
    "def sigmoid(x, deriv = False):\n",
    "    if deriv == True:\n",
    "        return x*(1-x)\n",
    "    return 1 / (1 + np.exp(-x))\n",
    "\n",
    "def tanh(x, deriv = False):\n",
    "    if deriv == True:\n",
    "        return 1 - pow(np.tanh(x), 2)\n",
    "    return np.tanh(x)"
   ]
  },
  {
   "cell_type": "code",
   "execution_count": 33,
   "metadata": {},
   "outputs": [],
   "source": [
    "class MLPNetwork(object):\n",
    "    def __init__(self, input_size, hidden_layer_length, output_layer_length=10, activation_fn=sigmoid, lr=0.1, epochs=10):\n",
    "        self.input_size = input_size\n",
    "        self.activation_fn = activation_fn\n",
    "        self.lr = lr\n",
    "        self.epochs = epochs\n",
    "        self.output_layer_length = output_layer_length\n",
    "        self.hidden_layer_length = hidden_layer_length\n",
    "        \n",
    "        #Weight inicialization\n",
    "        self.input_layer_weights = np.random.normal(0, 1, (hidden_layer_length, input_size)) * 0.2\n",
    "        self.hidden_layer_weights = np.random.normal(0, 1, (output_layer_length, hidden_layer_length)) * 0.2\n",
    "        \n",
    "    def guess(self, input_layer):\n",
    "        hidden_layer = self.activation_fn(np.dot(self.input_layer_weights, input_layer))\n",
    "        output_layer = self.activation_fn(np.dot(self.hidden_layer_weights, hidden_layer))\n",
    "        return output_layer, hidden_layer\n",
    "    \n",
    "    def train(self, input_layer, answer):\n",
    "        #Predict\n",
    "        output_layer, hidden_layer = self.guess(input_layer)\n",
    "        target = np.zeros(10)\n",
    "        target[int(answer)] = 1\n",
    "        \n",
    "        #Compute hidden layer error\n",
    "        output_err = target - pow(output_layer, 2)\n",
    "        hidden_err = np.dot(self.hidden_layer_weights.T, output_err)\n",
    "        \n",
    "        hidden_delta = self.lr * output_err * self.activation_fn(output_layer, deriv=True)\n",
    "        hidden_delta = np.outer(hidden_delta, hidden_layer)\n",
    "        \n",
    "        #Apply hidden layer correction to model\n",
    "        self.hidden_layer_weights += hidden_delta\n",
    "        \n",
    "        #Compute input layer error\n",
    "        input_delta = self.lr * hidden_err * self.activation_fn(hidden_layer, deriv=True)\n",
    "        input_delta = np.outer(input_delta, input_layer)\n",
    "        \n",
    "        #Apply input layer correction to model\n",
    "        self.input_layer_weights += input_delta\n",
    "    \n",
    "    def compute_accuracy(self, x_test, y_test):\n",
    "        err = 0\n",
    "        total = y_test.shape[0]\n",
    "        for test_case, test_answer in zip(x_test, y_test):\n",
    "            output_layer, hidden_layer = self.guess(test_case)\n",
    "            prediction = np.argmax(output_layer)\n",
    "            if prediction != test_answer:\n",
    "                err += 1\n",
    "        return err, total\n",
    "    \n",
    "    def fit(self, x_train, y_train, x_test, y_test):\n",
    "        train = np.insert(x_train, 0,  y_train, axis = 1)\n",
    "        tested_epochs = np.arange(0, self.epochs, int(self.epochs/5) or 1)\n",
    "        print('Accuracy will be measured in following epochs {}'.format(tested_epochs))\n",
    "        for epoch in range(self.epochs):\n",
    "            np.random.shuffle(train)\n",
    "            x_train = train[:, 1:]\n",
    "            y_train = train[:, 0]\n",
    "            for test_case, test_answer in zip(x_train, y_train):\n",
    "                self.train(test_case, test_answer)\n",
    "            if(epoch in(tested_epochs)):\n",
    "                err, total = self.compute_accuracy(x_test, y_test)\n",
    "                print('Network accuracy at Epoch ' + str(epoch) + ' is : ' + str(100 - float(err)/float(total) * 100)[:4])"
   ]
  },
  {
   "cell_type": "code",
   "execution_count": 34,
   "metadata": {},
   "outputs": [],
   "source": [
    "#Train data\n",
    "train_length = int(np.array(dataset).shape[0])\n",
    "train = np.array(dataset)\n",
    "x_train = train[:train_length, 1:] / 255\n",
    "y_train = train[:train_length, 0]"
   ]
  },
  {
   "cell_type": "code",
   "execution_count": 43,
   "metadata": {},
   "outputs": [],
   "source": [
    "#MLP Class Parameters\n",
    "\n",
    "input_size = x_train.shape[1]\n",
    "epochs = 20\n",
    "lr = 0.0005\n",
    "activation_fn = sigmoid\n",
    "hidden_layer_length = 15\n",
    "output_layer_length = 10"
   ]
  },
  {
   "cell_type": "code",
   "execution_count": 44,
   "metadata": {
    "scrolled": true
   },
   "outputs": [
    {
     "name": "stdout",
     "output_type": "stream",
     "text": [
      "Accuracy will be measured in following epochs [ 0  4  8 12 16]\n",
      "Network accuracy at Epoch 0 is : 54.6\n",
      "Network accuracy at Epoch 4 is : 81.8\n",
      "Network accuracy at Epoch 8 is : 86.9\n",
      "Network accuracy at Epoch 12 is : 88.8\n",
      "Network accuracy at Epoch 16 is : 89.8\n"
     ]
    }
   ],
   "source": [
    "#Train Network\n",
    "\n",
    "network = MLPNetwork(input_size, hidden_layer_length, activation_fn=activation_fn, lr=lr, epochs=epochs)\n",
    "network.fit(x_train, y_train, x_test, y_test)"
   ]
  },
  {
   "cell_type": "code",
   "execution_count": 42,
   "metadata": {},
   "outputs": [
    {
     "name": "stdout",
     "output_type": "stream",
     "text": [
      "Final accuracy: 91.0\n"
     ]
    }
   ],
   "source": [
    "err,total = network.compute_accuracy(x_test, y_test)\n",
    "print('Final accuracy: ' + str(100 - err/total * 100)[:4])"
   ]
  },
  {
   "cell_type": "code",
   "execution_count": null,
   "metadata": {},
   "outputs": [],
   "source": []
  }
 ],
 "metadata": {
  "kernelspec": {
   "display_name": "Python 3",
   "language": "python",
   "name": "python3"
  },
  "language_info": {
   "codemirror_mode": {
    "name": "ipython",
    "version": 3
   },
   "file_extension": ".py",
   "mimetype": "text/x-python",
   "name": "python",
   "nbconvert_exporter": "python",
   "pygments_lexer": "ipython3",
   "version": "3.7.0"
  }
 },
 "nbformat": 4,
 "nbformat_minor": 2
}
