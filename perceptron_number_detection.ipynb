{
 "cells": [
  {
   "cell_type": "code",
   "execution_count": 91,
   "metadata": {},
   "outputs": [],
   "source": [
    "import numpy as np\n",
    "import matplotlib.pyplot as plt\n",
    "import pandas as pd\n",
    "import math\n",
    "from functools import *\n",
    "import operator\n",
    "\n",
    "dataset = pd.read_csv('../mnist/mnist_train.csv')\n",
    "testset = pd.read_csv('../mnist/mnist_test.csv')"
   ]
  },
  {
   "cell_type": "code",
   "execution_count": 133,
   "metadata": {},
   "outputs": [],
   "source": [
    "class Perceptron(object):\n",
    "    def __init__(self,input_size, number=-1, lr=1, epochs=100):\n",
    "        self.W = np.random.normal(0, 0.5, input_size+1)\n",
    "        self.epochs = epochs\n",
    "        self.lr = lr\n",
    "        self.number = number\n",
    "    \n",
    "    def activation_fn(self, x):\n",
    "        return (1 / (1 + np.exp(-x)))\n",
    " \n",
    "    def predict(self, x):\n",
    "        z = self.W.T.dot(x)\n",
    "        a = self.activation_fn(z)\n",
    "        return a\n",
    "    \n",
    "    def guess_new(self, y):\n",
    "        x = np.insert(y, 0, 1)\n",
    "        return self.predict(x)\n",
    " \n",
    "    def fit(self, X, d):\n",
    "        for _ in range(self.epochs):\n",
    "            for i in range(d.shape[0]):\n",
    "                x = np.insert(X[i], 0, 1)\n",
    "                y = self.predict(x)\n",
    "                e = d[i] - y\n",
    "                self.W = self.W + self.lr * e * x"
   ]
  },
  {
   "cell_type": "code",
   "execution_count": 174,
   "metadata": {},
   "outputs": [],
   "source": [
    "\n",
    "x_test = np.array(testset)[:, 1:] / 255\n",
    "y_test = np.array(testset)[:, 0]"
   ]
  },
  {
   "cell_type": "code",
   "execution_count": 175,
   "metadata": {
    "scrolled": false
   },
   "outputs": [
    {
     "name": "stdout",
     "output_type": "stream",
     "text": [
      "Accuracy of Perceptron number 0 is: 0.0021\n",
      "Accuracy of Perceptron number 1 is: 0.2080\n",
      "Accuracy of Perceptron number 2 is: 0.1324\n",
      "Accuracy of Perceptron number 3 is: 0.1018\n",
      "Accuracy of Perceptron number 4 is: 0.0974\n",
      "Accuracy of Perceptron number 5 is: 0.0868\n",
      "Accuracy of Perceptron number 6 is: 0.0884\n",
      "Accuracy of Perceptron number 7 is: 0.0966\n",
      "Accuracy of Perceptron number 8 is: 0.1121\n",
      "Accuracy of Perceptron number 9 is: 0.1092\n"
     ]
    }
   ],
   "source": [
    "#Train perceptron by correspondent number\n",
    "samples = 10000\n",
    "perseptrons = [Perceptron(input_size=784, lr=0.1, epochs=10,number=i) for i in range(10)]\n",
    "\n",
    "for perceptron in perseptrons:\n",
    "    x_train = np.array(dataset)[0:samples, :]\n",
    "    \n",
    "    #Selectors\n",
    "    x_true_selector = perceptron.number == x_train[:, 0]    \n",
    "    x_true_selector = pd.Series(x_true_selector)\n",
    "    x_false_selector = perceptron.number != x_train[: ,0]\n",
    "    x_false_selector = pd.Series(x_false_selector)\n",
    "    \n",
    "    # 50% True 50% False examples\n",
    "    correspondent_x_train = x_train[x_true_selector]\n",
    "    not_correspondent_x_train = x_train[x_false_selector]\n",
    "    \n",
    "    #Reduce length to match correspondent \n",
    "    not_correspondent_x_train = not_correspondent_x_train[0:correspondent_x_train.shape[0],:]\n",
    "    \n",
    "    x_train = np.concatenate((not_correspondent_x_train, correspondent_x_train))\n",
    "    np.random.shuffle(x_train)\n",
    "    \n",
    "    #Final x_train, y_train values\n",
    "    y_train = x_train[:, 0]\n",
    "    y_train = [1 if(i == perceptron.number) else 0 for i in y_train]\n",
    "    y_train = np.array(y_train)\n",
    "    x_train = x_train[:, 1:] / 255\n",
    "    \n",
    "    #Fit Perceptron\n",
    "    perceptron.fit(x_train, y_train)\n",
    "    #print('Sample positive sum = ' + str(operator.countOf(y_train, True)))\n",
    "    \n",
    "    #Get Accuracy\n",
    "    total = y_test.shape[0]\n",
    "    err_total = 0\n",
    "    acc_total = 0\n",
    "    for test_case, test_answer in zip(x_test, y_test):\n",
    "        prediction = round(perceptron.guess_new(test_case))\n",
    "        if (prediction == test_answer):\n",
    "            acc_total +=1\n",
    "        else:\n",
    "            err_total +=1\n",
    "    print('Accuracy of Perceptron number ' + str(perceptron.number) + ' is: ' + str(float(acc_total)/float(total))[:6])"
   ]
  },
  {
   "cell_type": "code",
   "execution_count": 196,
   "metadata": {},
   "outputs": [
    {
     "name": "stdout",
     "output_type": "stream",
     "text": [
      "Accuracy of the network is: 0.84528452\n",
      "Correct: 8452\n"
     ]
    }
   ],
   "source": [
    "\n",
    "acc_total = 0\n",
    "total = y_test.shape[0]\n",
    "\n",
    "for test_case, answer in zip(x_test, y_test):\n",
    "    predictions = [perceptron.guess_new(test_case) for perceptron in perseptrons]\n",
    "    if np.argmax(predictions) == answer:\n",
    "        acc_total += 1\n",
    "print('Accuracy of the network is: ' + str(float(acc_total)/float(total))[:10])\n",
    "print('Correct: ' + str(acc_total))"
   ]
  },
  {
   "cell_type": "code",
   "execution_count": null,
   "metadata": {},
   "outputs": [],
   "source": []
  }
 ],
 "metadata": {
  "kernelspec": {
   "display_name": "Python 3",
   "language": "python",
   "name": "python3"
  },
  "language_info": {
   "codemirror_mode": {
    "name": "ipython",
    "version": 3
   },
   "file_extension": ".py",
   "mimetype": "text/x-python",
   "name": "python",
   "nbconvert_exporter": "python",
   "pygments_lexer": "ipython3",
   "version": "3.7.0"
  }
 },
 "nbformat": 4,
 "nbformat_minor": 2
}
