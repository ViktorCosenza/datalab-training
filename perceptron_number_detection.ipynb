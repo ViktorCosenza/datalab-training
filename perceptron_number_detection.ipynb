{
 "cells": [
  {
   "cell_type": "code",
   "execution_count": 1,
   "metadata": {},
   "outputs": [],
   "source": [
    "import numpy as np\n",
    "import matplotlib.pyplot as plt\n",
    "import pandas as pd\n",
    "import math\n",
    "from functools import *\n",
    "\n",
    "dataset = pd.read_csv('mnist/mnist_train.csv')\n",
    "testset = pd.read_csv('mnist/mnist_test.csv')"
   ]
  },
  {
   "cell_type": "code",
   "execution_count": 64,
   "metadata": {},
   "outputs": [],
   "source": [
    "class Perceptron(object):\n",
    "    def __init__(self,input_size, number=-1, lr=1, epochs=100):\n",
    "        self.W = np.zeros(input_size+1)\n",
    "        self.epochs = epochs\n",
    "        self.lr = lr\n",
    "        self.number = number\n",
    "    \n",
    "    def activation_fn(self, x):\n",
    "        return (1 / (1 + np.exp(-x)))\n",
    " \n",
    "    def predict(self, x):\n",
    "        z = self.W.T.dot(x)\n",
    "        a = self.activation_fn(z)\n",
    "        return a\n",
    "    \n",
    "    def guess_new(self, x):\n",
    "        z = self.W[1:].dot(x) + self.W[0]\n",
    "        return self.activation_fn(z)\n",
    " \n",
    "    def fit(self, X, d):\n",
    "        for _ in range(self.epochs):\n",
    "            for i in range(d.shape[0]):\n",
    "                x = np.insert(X[i], 0, 1)\n",
    "                y = self.predict(x)\n",
    "                e = d[i] - y\n",
    "                self.W = self.W + self.lr * e * x"
   ]
  },
  {
   "cell_type": "code",
   "execution_count": 72,
   "metadata": {},
   "outputs": [],
   "source": [
    "train = np.array(dataset)[0:300,:]\n",
    "test = np.array(testset)[0:300,:]"
   ]
  },
  {
   "cell_type": "code",
   "execution_count": 73,
   "metadata": {},
   "outputs": [
    {
     "name": "stdout",
     "output_type": "stream",
     "text": [
      "Accuracy of Perceptron number 0 is: 0.12\n",
      "Accuracy of Perceptron number 1 is: 0.205\n",
      "Accuracy of Perceptron number 2 is: 0.16\n",
      "Accuracy of Perceptron number 3 is: 0.12\n",
      "Accuracy of Perceptron number 4 is: 0.19\n",
      "Accuracy of Perceptron number 5 is: 0.145\n",
      "Accuracy of Perceptron number 6 is: 0.12\n",
      "Accuracy of Perceptron number 7 is: 0.165\n",
      "Accuracy of Perceptron number 8 is: 0.105\n",
      "Accuracy of Perceptron number 9 is: 0.17\n"
     ]
    }
   ],
   "source": [
    "#Train perceptron by correspondent number\n",
    "\n",
    "perseptrons = [Perceptron(input_size=train.shape[1]-1, lr=0.001, epochs=100,number=i) for i in range(10)]\n",
    "\n",
    "for perceptron in perseptrons:\n",
    "    perceptron.fit(train[:, 1:], train[0:, 0])\n",
    "    #Get Accuracy\n",
    "    total = 200\n",
    "    err_total = 0\n",
    "    acc_total = 0\n",
    "    for test_case in test:\n",
    "        prediction = round(perceptron.guess_new(test_case[1:]))\n",
    "        if (prediction == 1 and perceptron.number == test_case[0]):\n",
    "            acc_total +=1\n",
    "        else:\n",
    "            err_total +=1\n",
    "    print('Accuracy of Perceptron number ' + str(perceptron.number) + ' is: ' + str(float(acc_total)/float(total)))"
   ]
  },
  {
   "cell_type": "code",
   "execution_count": null,
   "metadata": {},
   "outputs": [],
   "source": []
  }
 ],
 "metadata": {
  "kernelspec": {
   "display_name": "Python 3",
   "language": "python",
   "name": "python3"
  },
  "language_info": {
   "codemirror_mode": {
    "name": "ipython",
    "version": 3
   },
   "file_extension": ".py",
   "mimetype": "text/x-python",
   "name": "python",
   "nbconvert_exporter": "python",
   "pygments_lexer": "ipython3",
   "version": "3.7.0"
  }
 },
 "nbformat": 4,
 "nbformat_minor": 2
}
